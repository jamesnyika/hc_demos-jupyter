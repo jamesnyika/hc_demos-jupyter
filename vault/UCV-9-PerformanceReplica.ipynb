{
 "cells": [
  {
   "cell_type": "markdown",
   "metadata": {},
   "source": [
    "<img src=../images/gdms-vault.png width=1000 margin=0px>\n",
    "\n",
    "---\n",
    "\n"
   ]
  },
  {
   "cell_type": "markdown",
   "metadata": {},
   "source": [
    "# Performance Replication in Vault"
   ]
  },
  {
   "cell_type": "markdown",
   "metadata": {},
   "source": [
    "**Cleanup Directories**"
   ]
  },
  {
   "cell_type": "code",
   "execution_count": 9,
   "metadata": {},
   "outputs": [],
   "source": [
    "export DEMODIR=~/work/jupyter/hc_demos-jupyter\n",
    "export VLICENSE=~/.licenses/vault.json"
   ]
  },
  {
   "cell_type": "code",
   "execution_count": 12,
   "metadata": {},
   "outputs": [],
   "source": [
    "rm -rf $DEMODIR/vault/config/vrd/*\n",
    "rm -rf $DEMODIR/vault/config/vrd2/*"
   ]
  },
  {
   "cell_type": "markdown",
   "metadata": {},
   "source": [
    "**Setup Directories**"
   ]
  },
  {
   "cell_type": "code",
   "execution_count": 11,
   "metadata": {},
   "outputs": [],
   "source": [
    "mkdir -p $DEMODIR/vault/config\n",
    "mkdir -p $DEMODIR/vault/config/vrd/data/vault/raft\n",
    "mkdir -p $DEMODIR/vault/config/vrd2/data/vault/raft\n",
    "mkdir -p $DEMODIR/vault/config/vrd/data/vault/plugins\n",
    "mkdir -p $DEMODIR/vault/config/vrd2/data/vault/plugins"
   ]
  },
  {
   "cell_type": "markdown",
   "metadata": {},
   "source": [
    "### Begin Performance Replication"
   ]
  },
  {
   "cell_type": "code",
   "execution_count": 4,
   "metadata": {},
   "outputs": [
    {
     "name": "stdout",
     "output_type": "stream",
     "text": [
      "\u001b[0mVault v1.5.0+ent\u001b[0m\n"
     ]
    }
   ],
   "source": [
    "vault version"
   ]
  },
  {
   "cell_type": "code",
   "execution_count": 5,
   "metadata": {},
   "outputs": [],
   "source": [
    "export VAULT_ADDR=http://127.0.0.1:8200\n",
    "export VAULT_SKIP_VERIFY=true"
   ]
  },
  {
   "cell_type": "code",
   "execution_count": 6,
   "metadata": {},
   "outputs": [],
   "source": [
    "export VAULT_ADDR2=http://127.0.0.1:8202\n",
    "export VAULT_SKIP_VERIFY=true"
   ]
  },
  {
   "cell_type": "markdown",
   "metadata": {},
   "source": [
    "### Start Two Vault Servers"
   ]
  },
  {
   "cell_type": "markdown",
   "metadata": {},
   "source": [
    "**Populate Vault Server configuration files**"
   ]
  },
  {
   "cell_type": "code",
   "execution_count": 7,
   "metadata": {},
   "outputs": [],
   "source": [
    "mkdir -p $DEMODIR/vault/config\n",
    "cat <<EOF > $DEMODIR/vault/config/vrd_config.hcl\n",
    "storage \"raft\" {\n",
    "path = \"$DEMODIR/vault/config/vrd/data/vault/raft\"\n",
    "  node_id = \"demo\"\n",
    "}\n",
    "listener \"tcp\" {\n",
    "  address = \"0.0.0.0:8200\"\n",
    "  cluster_address = \"0.0.0.0:8201\"\n",
    "  tls_disable = \"true\"\n",
    "}\n",
    "api_addr = \"https://127.0.0.1:8200\"\n",
    "cluster_addr = \"https://127.0.0.1:8201\"\n",
    "disable_mlock=\"false\"\n",
    "disable_cache=\"false\"\n",
    "ui = \"true\"\n",
    "max_lease_ttl=\"24h\"\n",
    "default_lease_ttl=\"1h\"\n",
    "raw_storage_endpoint=true\n",
    "cluster_name=\"hashi-vault\"\n",
    "insecure_tls=\"true\"\n",
    "plugin_directory=\"$DEMODIR/vault/config/vrd/data/vault/plugins\"\n",
    "EOF"
   ]
  },
  {
   "cell_type": "code",
   "execution_count": 8,
   "metadata": {},
   "outputs": [],
   "source": [
    "mkdir -p $DEMODIR/vault/config\n",
    "cat <<EOF > $DEMODIR/vault/config/vrd2_config.hcl\n",
    "storage \"raft\" {\n",
    "  path = \"$DEMODIR/vault/config/vrd2/data/vault/raft\"\n",
    "  node_id = \"demo\"\n",
    "}\n",
    "listener \"tcp\" {\n",
    "  address = \"0.0.0.0:8202\"\n",
    "  cluster_address = \"0.0.0.0:8203\"\n",
    "  tls_disable = \"true\"\n",
    "}\n",
    "api_addr = \"https://127.0.0.1:8202\"\n",
    "cluster_addr = \"https://127.0.0.1:8203\"\n",
    "disable_mlock=\"false\"\n",
    "disable_cache=\"false\"\n",
    "ui = \"true\"\n",
    "max_lease_ttl=\"24h\"\n",
    "default_lease_ttl=\"1h\"\n",
    "raw_storage_endpoint=true\n",
    "cluster_name=\"hashi-vault\"\n",
    "insecure_tls=\"true\"\n",
    "plugin_directory=\"$DEMODIR/vault/config/vr2/data/vault/plugins\"\n",
    "EOF"
   ]
  },
  {
   "cell_type": "markdown",
   "metadata": {},
   "source": [
    "**AUTO RUN ABOVE**"
   ]
  },
  {
   "cell_type": "markdown",
   "metadata": {},
   "source": [
    "**EXECUTE EACH COMMAND IN SEPARATE TERMINAL WINDOW**"
   ]
  },
  {
   "cell_type": "code",
   "execution_count": null,
   "metadata": {},
   "outputs": [],
   "source": [
    "vault server -config=$DEMODIR/vault/config/vrd_config.hcl"
   ]
  },
  {
   "cell_type": "code",
   "execution_count": null,
   "metadata": {},
   "outputs": [],
   "source": [
    "vault server -config=$DEMODIR/vault/config/vrd2_config.hcl"
   ]
  },
  {
   "cell_type": "markdown",
   "metadata": {},
   "source": [
    "### Initialize Vaults\n",
    "(save output to file for demo use)"
   ]
  },
  {
   "cell_type": "code",
   "execution_count": null,
   "metadata": {},
   "outputs": [],
   "source": [
    "curl --request POST --data '{\"secret_shares\": 1, \"secret_threshold\": 1}' $VAULT_ADDR/v1/sys/init > $DEMODIR/vault/config/vrd/vault_init_output"
   ]
  },
  {
   "cell_type": "code",
   "execution_count": null,
   "metadata": {},
   "outputs": [],
   "source": [
    "curl --request POST --data '{\"secret_shares\": 1, \"secret_threshold\": 1}' $VAULT_ADDR2/v1/sys/init > $DEMODIR/vault/config/vrd2/vault_init_output"
   ]
  },
  {
   "cell_type": "markdown",
   "metadata": {},
   "source": [
    "**Parse output to variables** (for demo use)"
   ]
  },
  {
   "cell_type": "code",
   "execution_count": null,
   "metadata": {},
   "outputs": [],
   "source": [
    "sleep 10\n",
    "export VAULT_ROOT_TOKEN=$(cat $DEMODIR/vault/config/vrd/vault_init_output | jq -r '.root_token')\n",
    "export VAULT_KEY_BASE64=$(cat $DEMODIR/vault/config/vrd/vault_init_output | jq -r '.keys_base64[0]' )"
   ]
  },
  {
   "cell_type": "code",
   "execution_count": null,
   "metadata": {},
   "outputs": [],
   "source": [
    "export VAULT_ROOT_TOKEN2=$(cat $DEMODIR/vault/config/vrd2/vault_init_output | jq -r '.root_token')\n",
    "export VAULT_KEY_BASE642=$(cat $DEMODIR/vault/config/vrd2/vault_init_output | jq -r '.keys_base64[0]' )"
   ]
  },
  {
   "cell_type": "markdown",
   "metadata": {},
   "source": [
    "### Unseal Vaults"
   ]
  },
  {
   "cell_type": "code",
   "execution_count": null,
   "metadata": {},
   "outputs": [],
   "source": [
    "  sleep 10;\n",
    "  curl \\\n",
    "    --insecure \\\n",
    "    --header \"X-Vault-Token: $VAULT_ROOT_TOKEN\" \\\n",
    "    --request PUT \\\n",
    "    --data '{ \"key\": \"'$VAULT_KEY_BASE64'\" }' \\\n",
    "    $VAULT_ADDR/v1/sys/unseal"
   ]
  },
  {
   "cell_type": "code",
   "execution_count": null,
   "metadata": {},
   "outputs": [],
   "source": [
    "  curl \\\n",
    "    --insecure \\\n",
    "    --header \"X-Vault-Token: $VAULT_ROOT_TOKEN2\" \\\n",
    "    --request PUT \\\n",
    "    --data '{ \"key\": \"'$VAULT_KEY_BASE642'\" }' \\\n",
    "    $VAULT_ADDR2/v1/sys/unseal"
   ]
  },
  {
   "cell_type": "markdown",
   "metadata": {},
   "source": [
    "### License Vaults"
   ]
  },
  {
   "cell_type": "code",
   "execution_count": null,
   "metadata": {},
   "outputs": [],
   "source": [
    "  sleep 10\n",
    "  curl \\\n",
    "    --insecure \\\n",
    "    --header \"X-Vault-Token: $VAULT_ROOT_TOKEN\" \\\n",
    "    --request PUT \\\n",
    "    --data \"@$VLICENSE\" \\\n",
    "    $VAULT_ADDR/v1/sys/license"
   ]
  },
  {
   "cell_type": "code",
   "execution_count": null,
   "metadata": {},
   "outputs": [],
   "source": [
    "  curl \\\n",
    "    --insecure \\\n",
    "    --header \"X-Vault-Token: $VAULT_ROOT_TOKEN2\" \\\n",
    "    --request PUT \\\n",
    "    --data \"@$VLICENSE\" \\\n",
    "    $VAULT_ADDR2/v1/sys/license"
   ]
  },
  {
   "cell_type": "markdown",
   "metadata": {},
   "source": [
    "# Interactive Demo: Enable Performance Replication"
   ]
  },
  {
   "cell_type": "markdown",
   "metadata": {},
   "source": [
    "**Copy Token to Pasteboard for UI Login**"
   ]
  },
  {
   "cell_type": "code",
   "execution_count": null,
   "metadata": {},
   "outputs": [],
   "source": [
    "echo $VAULT_ROOT_TOKEN | pbcopy\n",
    "echo $VAULT_ROOT_TOKEN"
   ]
  },
  {
   "cell_type": "code",
   "execution_count": null,
   "metadata": {},
   "outputs": [],
   "source": [
    "echo $VAULT_ROOT_TOKEN2 | pbcopy"
   ]
  },
  {
   "cell_type": "markdown",
   "metadata": {},
   "source": [
    "**Generate NEW root key for Performance Replication cluster**"
   ]
  },
  {
   "cell_type": "code",
   "execution_count": null,
   "metadata": {},
   "outputs": [],
   "source": [
    "## Generate One Time Password (OTP) Needed to Generate DR token\n",
    "#alias vault_secondary='VAULT_UI=true VAULT_ADDR=http://127.0.0.1:8202 vault'\n",
    "#VAULT_SECONDARY_ADDR='127.0.0.1:8202'\n",
    "#ONE_TIME_PASSWORD=$(vault_secondary operator generate-root -generate-otp)\n",
    "ONE_TIME_PASSWORD=$(vault operator generate-root -generate-otp VAULT_ADDR=http://127.0.0.1:8202)\n",
    "echo $ONE_TIME_PASSWORD"
   ]
  },
  {
   "cell_type": "code",
   "execution_count": null,
   "metadata": {},
   "outputs": [],
   "source": [
    "## Start Generation of DR Operation Token Attempt -- Get NONCE to give to UNSEAL KEY holders\n",
    "NONCE=$(curl --header \"X-Vault-Token: $VAULT_ROOT_TOKEN\" --request PUT --data '{\"otp\":\"'\"${ONE_TIME_PASSWORD}\"'\"}' 127.0.0.1:8202/v1/sys/generate-root/attempt | jq --raw-output '.nonce')\n",
    "echo $NONCE"
   ]
  },
  {
   "cell_type": "code",
   "execution_count": null,
   "metadata": {},
   "outputs": [],
   "source": [
    "## Get Your ENCODED TOKEN that will be combined with OTP to produce New Root Token for Perf Replica cluster\n",
    "export UNSEAL_KEY=$(cat ~/Documents/demos/vault_cluster/vrd/vault_init_output | jq -r '.keys[0]')\n",
    "echo $UNSEAL_KEY\n",
    "ENCODED_TOKEN=$(curl --header \"X-Vault-Token: ${VAULT_ROOT_TOKEN}\" --request PUT --data '{\"key\":\"'\"${UNSEAL_KEY}\"'\", \"nonce\":\"'\"${NONCE}\"'\"}' http://127.0.0.1:8202/v1/sys/generate-root/update | jq --raw-output '.encoded_token')\n",
    "echo $ENCODED_TOKEN\n",
    "#PR_ROOT_TOKEN=$(vault_secondary operator generate-root -otp=\"${ONE_TIME_PASSWORD}\" -decode=\"${ENCODED_TOKEN}\")\n",
    "PR_ROOT_TOKEN=$(VAULT_ADDR=http://127.0.0.1:8202 vault operator generate-root -otp=\"${ONE_TIME_PASSWORD}\" -decode=\"${ENCODED_TOKEN}\")\n",
    "echo $PR_ROOT_TOKEN"
   ]
  },
  {
   "cell_type": "code",
   "execution_count": null,
   "metadata": {},
   "outputs": [],
   "source": [
    "echo $PR_ROOT_TOKEN | pbcopy"
   ]
  },
  {
   "cell_type": "markdown",
   "metadata": {},
   "source": [
    "## Interactive Demo: Log Into Replica\n",
    "## Interactive Demo: Create / Delete Secrets in Primary and View in Replica"
   ]
  },
  {
   "cell_type": "markdown",
   "metadata": {},
   "source": [
    "**END**"
   ]
  }
 ],
 "metadata": {
  "kernelspec": {
   "display_name": "Bash",
   "language": "bash",
   "name": "bash"
  },
  "language_info": {
   "codemirror_mode": "shell",
   "file_extension": ".sh",
   "mimetype": "text/x-sh",
   "name": "bash"
  }
 },
 "nbformat": 4,
 "nbformat_minor": 4
}
